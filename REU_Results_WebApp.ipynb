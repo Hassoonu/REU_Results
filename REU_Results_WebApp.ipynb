{
 "cells": [
  {
   "cell_type": "code",
   "execution_count": 1,
   "id": "binding-glance",
   "metadata": {},
   "outputs": [],
   "source": [
    "# Name: Hasan Al Saeedi, Date: 07/15/2022\n",
    "# Purpose: This general Gif Inserting class is a module \n",
    "#          to easily be used to create a gif cell in any guides/notebooks.\n",
    "# Precondition: None\n",
    "# Post: A gif is inserted.\n",
    "\n",
    "from IPython.display import HTML\n",
    "\n",
    "class GenGif:\n",
    "    gifList = []\n",
    "    def __init__(self, gifLink, gifFile, leftRightCen, width, height, description):\n",
    "        self.width = width\n",
    "        self.height = height\n",
    "        self.description = description \n",
    "        \n",
    "        if(leftRightCen == 'l'):\n",
    "            self.align = \"left\"\n",
    "        elif(leftRightCen == 'r'):\n",
    "            self.align = \"right\"\n",
    "        elif(leftRightCen == 'c'):\n",
    "            self.align = \"center\"\n",
    "        \n",
    "        self.Link = gifLink\n",
    "        self.File = gifFile\n",
    "        \n",
    "        if(self.Link != ''):\n",
    "            self.gif = gifLink\n",
    "        elif(self.File != ''):\n",
    "            self.gif = gifFile\n",
    "        \n",
    "        if self.gif in GenGif.gifList: #If gif is already showing.\n",
    "            pass #dont add it\n",
    "        elif self.gif not in GenGif.gifList:\n",
    "            GenGif.gifList.append(self.gif)\n",
    "    \n",
    "    \n",
    "    def render(self):\n",
    "        #prints the gif \n",
    "        if(self.Link != ''):\n",
    "            #shows gif from link\n",
    "            gifHtml = HTML('''\n",
    "            <div align=\"'''+ self.align + '''\">\n",
    "            <FIGURE> \n",
    "            <img src=\"'''+ self.gif + '''\" TITLE = \"Figure 8\" height = ''' + str(self.height) + ''' width = ''' + str(self.width) +'''>    \n",
    "            </FIGURE>\n",
    "            </div>''')\n",
    "            display(gifHtml)\n",
    "        elif(self.File != ''):\n",
    "            #shows gif downloaded in file\n",
    "            gifHtml = HTML('''\n",
    "            <div align=\"'''+ self.align + '''\">\n",
    "            <FIGURE> \n",
    "            <img src=\"'''+ self.gif + '''\" TITLE = \"Figure 8\" height = ''' + str(self.height) + ''' width = ''' + str(self.width) +'''>    \n",
    "            </FIGURE>\n",
    "            </div>''')\n",
    "            display(gifHtml)\n",
    "        \n",
    "        print(\"Figure \" + str(GenGif.gifList.index(self.gif)) + \": \" + self.description)"
   ]
  },
  {
   "cell_type": "code",
   "execution_count": 2,
   "id": "informal-powell",
   "metadata": {},
   "outputs": [],
   "source": [
    "#!jupyter nbextension enable --py widgetsnbextension --sys-prefix\n",
    "#!jupyter serverextension enable voila --sys-prefix"
   ]
  },
  {
   "cell_type": "code",
   "execution_count": 3,
   "id": "5568a979",
   "metadata": {},
   "outputs": [
    {
     "data": {
      "text/html": [
       "\n",
       "            <div align=\"center\">\n",
       "            <FIGURE> \n",
       "            <img src=\"REU_Results_GIF_AdobeCropped.gif\" TITLE = \"Figure 8\" height = 950 width = 950>    \n",
       "            </FIGURE>\n",
       "            </div>"
      ],
      "text/plain": [
       "<IPython.core.display.HTML object>"
      ]
     },
     "metadata": {},
     "output_type": "display_data"
    },
    {
     "name": "stdout",
     "output_type": "stream",
     "text": [
      "Figure 0: Gif showing XRR Lab constructed from Modules.\n"
     ]
    }
   ],
   "source": [
    "totalResultsGif = GenGif(\"\", \"REU_Results_GIF_AdobeCropped.gif\", 'c', 950, 950, \"Gif showing XRR Lab constructed from Modules.\")\n",
    "totalResultsGif.render()"
   ]
  },
  {
   "cell_type": "code",
   "execution_count": 4,
   "id": "06309282",
   "metadata": {},
   "outputs": [
    {
     "data": {
      "text/html": [
       "\n",
       "            <div align=\"center\">\n",
       "            <FIGURE> \n",
       "            <img src=\"REU_Results_ListClass_TRIMMED_AdobeExpress.gif\" TITLE = \"Figure 8\" height = 950 width = 950>    \n",
       "            </FIGURE>\n",
       "            </div>"
      ],
      "text/plain": [
       "<IPython.core.display.HTML object>"
      ]
     },
     "metadata": {},
     "output_type": "display_data"
    },
    {
     "name": "stdout",
     "output_type": "stream",
     "text": [
      "Figure 1: Gif showing operation of GenList Module.\n"
     ]
    }
   ],
   "source": [
    "ListGif = GenGif(\"\", \"REU_Results_ListClass_TRIMMED_AdobeExpress.gif\",  'c', 950, 950, \"Gif showing operation of GenList Module.\")\n",
    "ListGif.render()"
   ]
  },
  {
   "cell_type": "code",
   "execution_count": 5,
   "id": "9096ddab",
   "metadata": {},
   "outputs": [
    {
     "data": {
      "text/html": [
       "\n",
       "            <div align=\"center\">\n",
       "            <FIGURE> \n",
       "            <img src=\"REU_Results_Pic_AdobeExpress.gif\" TITLE = \"Figure 8\" height = 950 width = 950>    \n",
       "            </FIGURE>\n",
       "            </div>"
      ],
      "text/plain": [
       "<IPython.core.display.HTML object>"
      ]
     },
     "metadata": {},
     "output_type": "display_data"
    },
    {
     "name": "stdout",
     "output_type": "stream",
     "text": [
      "Figure 2: Gif showing operation of GenPic Module.\n"
     ]
    }
   ],
   "source": [
    "PicGif = GenGif(\"\", \"REU_Results_Pic_AdobeExpress.gif\",  'c', 950, 950, \"Gif showing operation of GenPic Module.\")\n",
    "PicGif.render()"
   ]
  },
  {
   "cell_type": "code",
   "execution_count": 6,
   "id": "0ecf5df4",
   "metadata": {},
   "outputs": [
    {
     "data": {
      "text/html": [
       "\n",
       "            <div align=\"center\">\n",
       "            <FIGURE> \n",
       "            <img src=\"REU_Results_GifClass_AdobeExpress.gif\" TITLE = \"Figure 8\" height = 950 width = 950>    \n",
       "            </FIGURE>\n",
       "            </div>"
      ],
      "text/plain": [
       "<IPython.core.display.HTML object>"
      ]
     },
     "metadata": {},
     "output_type": "display_data"
    },
    {
     "name": "stdout",
     "output_type": "stream",
     "text": [
      "Figure 3: Gif showing GenGif Module Operation\n"
     ]
    }
   ],
   "source": [
    "GifClass = GenGif(\"\", \"REU_Results_GifClass_AdobeExpress.gif\", 'c', 950, 950, \"Gif showing GenGif Module Operation\")\n",
    "GifClass.render()"
   ]
  },
  {
   "cell_type": "code",
   "execution_count": 7,
   "id": "c036b063",
   "metadata": {},
   "outputs": [
    {
     "data": {
      "text/html": [
       "\n",
       "            <div align=\"center\">\n",
       "            <FIGURE> \n",
       "            <img src=\"REU_Results_Sims_AdobeExpress.gif\" TITLE = \"Figure 8\" height = 950 width = 950>    \n",
       "            </FIGURE>\n",
       "            </div>"
      ],
      "text/plain": [
       "<IPython.core.display.HTML object>"
      ]
     },
     "metadata": {},
     "output_type": "display_data"
    },
    {
     "name": "stdout",
     "output_type": "stream",
     "text": [
      "Figure 4: Gif showing GenSims Module Operation\n"
     ]
    }
   ],
   "source": [
    "SimsGif = GenGif(\"\", \"REU_Results_Sims_AdobeExpress.gif\", 'c', 950, 950, \"Gif showing GenSims Module Operation\")\n",
    "SimsGif.render()"
   ]
  },
  {
   "cell_type": "code",
   "execution_count": null,
   "id": "b1d067a9",
   "metadata": {},
   "outputs": [],
   "source": []
  },
  {
   "cell_type": "code",
   "execution_count": null,
   "id": "58722518",
   "metadata": {},
   "outputs": [],
   "source": []
  },
  {
   "cell_type": "code",
   "execution_count": null,
   "id": "e799702d",
   "metadata": {},
   "outputs": [],
   "source": []
  }
 ],
 "metadata": {
  "kernelspec": {
   "display_name": "Python 3 (ipykernel)",
   "language": "python",
   "name": "python3"
  },
  "language_info": {
   "codemirror_mode": {
    "name": "ipython",
    "version": 3
   },
   "file_extension": ".py",
   "mimetype": "text/x-python",
   "name": "python",
   "nbconvert_exporter": "python",
   "pygments_lexer": "ipython3",
   "version": "3.9.12"
  }
 },
 "nbformat": 4,
 "nbformat_minor": 5
}
